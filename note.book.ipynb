{
 "cells": [
  {
   "cell_type": "code",
   "execution_count": 1,
   "metadata": {},
   "outputs": [],
   "source": [
    "from langchain.memory import ConversationSummaryBufferMemory\n",
    "from langchain.chat_models import ChatOpenAI\n",
    "\n",
    "llm  = ChatOpenAI(model_name=\"gpt-4\",\n",
    "                temperature=0.1,\n",
    "                streaming=True,\n",
    "                )\n",
    "\n",
    "memory = ConversationSummaryBufferMemory(\n",
    "    llm=llm,\n",
    "    max_token_limit=130,\n",
    "    return_messages=True,\n",
    ")\n",
    "\n",
    "def add_message(input, output):\n",
    "    memory.save_context({\"input\": input},{\"output\": output})\n",
    "\n",
    "def get_history():\n",
    "    return memory.load_memory_variables({})\n",
    "\n",
    "add_message(\"Hi I'm Nicolas, I live in S.Korea\", \"Wow! That is so cool!\")\n",
    "add_message(\"S.Korea is so pretty\", \"But Something has happend Martial law in S.Korea!\")\n",
    "add_message(\"But I really wanna go there\", \"If God double your life, I would agree with you\")\n",
    "add_message(\"sry, It was just a joke.\", \"I'm happy to hear that.\")\n",
    "add_message(\"mmm... I wanna go trip to asia.\", \"I would recommand North Korea. The people in there use the same language as South Korea.\")\n",
    "add_message(\"Are you kidding me?\", \"haha, It was a joke.\")"
   ]
  },
  {
   "cell_type": "code",
   "execution_count": 2,
   "metadata": {},
   "outputs": [
    {
     "data": {
      "text/plain": [
       "{'history': [SystemMessage(content='Nicolas, the human, introduces himself and shares that he lives in South Korea, which he finds very pretty. The AI responds enthusiastically to this information.'),\n",
       "  AIMessage(content='But Something has happend Martial law in S.Korea!'),\n",
       "  HumanMessage(content='But I really wanna go there'),\n",
       "  AIMessage(content='If God double your life, I would agree with you'),\n",
       "  HumanMessage(content='sry, It was just a joke.'),\n",
       "  AIMessage(content=\"I'm happy to hear that.\"),\n",
       "  HumanMessage(content='mmm... I wanna go trip to asia.'),\n",
       "  AIMessage(content='I would recommand North Korea. The people in there use the same language as South Korea.'),\n",
       "  HumanMessage(content='Are you kidding me?'),\n",
       "  AIMessage(content='haha, It was a joke.')]}"
      ]
     },
     "execution_count": 2,
     "metadata": {},
     "output_type": "execute_result"
    }
   ],
   "source": [
    "get_history()"
   ]
  }
 ],
 "metadata": {
  "kernelspec": {
   "display_name": "env",
   "language": "python",
   "name": "python3"
  },
  "language_info": {
   "codemirror_mode": {
    "name": "ipython",
    "version": 3
   },
   "file_extension": ".py",
   "mimetype": "text/x-python",
   "name": "python",
   "nbconvert_exporter": "python",
   "pygments_lexer": "ipython3",
   "version": "3.11.11"
  }
 },
 "nbformat": 4,
 "nbformat_minor": 2
}
