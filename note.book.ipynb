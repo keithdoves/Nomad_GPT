{
 "cells": [
  {
   "cell_type": "code",
   "execution_count": null,
   "metadata": {},
   "outputs": [],
   "source": [
    "from langchain.memory import ConversationSummaryBufferMemory\n",
    "from langchain.chat_models import ChatOpenAI\n",
    "from langchain.schema.runnable import RunnablePassthrough\n",
    "from langchain.prompts import  ChatPromptTemplate, MessagesPlaceholder\n",
    "\n",
    "llm  = ChatOpenAI(model_name=\"gpt-4\",\n",
    "                temperature=0.1,\n",
    "                streaming=True,\n",
    "                )\n",
    "\n",
    "memory = ConversationSummaryBufferMemory(\n",
    "    llm=llm,\n",
    "    max_token_limit=120,\n",
    "    #memory_key=\"chat_history\", #기본 키는 history다 \n",
    "    return_messages=True,\n",
    ")\n",
    "\n",
    "prompt = ChatPromptTemplate.from_messages(\n",
    "    [\n",
    "        (\"system\", \"You are a helpful AI taking to a human.\" ),\n",
    "        MessagesPlaceholder(variable_name=\"history\"), #message형식일 때 히스토리 제공방법\n",
    "        (\"human\", \"{question}\"),\n",
    "    ]\n",
    ")\n",
    "def load_memory(_):\n",
    "    return memory.load_memory_variables({})[\"history\"]\n",
    "#RunnablePassthrough : 프롬프트가 완성되기 전에 함수를 실행시켜줌\n",
    "#그리고 assign 메소드를 통해 어느 값이든 할당할 수 있음\n",
    "chain = RunnablePassthrough.assign(history=load_memory) | prompt | llm\n",
    "\n",
    "def invoke_chain(question):\n",
    "    result = chain.invoke({\n",
    "        \"question\": question,\n",
    "    })\n",
    "    memory.save_context({\"input\": question},{\"output\": result.content}) \n",
    "    print(result)\n",
    "\n"
   ]
  },
  {
   "cell_type": "code",
   "execution_count": 18,
   "metadata": {},
   "outputs": [
    {
     "name": "stdout",
     "output_type": "stream",
     "text": [
      "content='Nice to meet you, Jonas! How can I assist you today?'\n"
     ]
    }
   ],
   "source": [
    "invoke_chain(\"My name is jonas\")"
   ]
  },
  {
   "cell_type": "code",
   "execution_count": 19,
   "metadata": {},
   "outputs": [
    {
     "name": "stdout",
     "output_type": "stream",
     "text": [
      "content=\"That's great, Jonas! Seoul is a vibrant city with a rich history and culture. How can I assist you further? Are you looking for recommendations on places to visit or need information about something specific in Seoul?\"\n"
     ]
    }
   ],
   "source": [
    "invoke_chain(\"I live in Seoul\")"
   ]
  },
  {
   "cell_type": "code",
   "execution_count": 20,
   "metadata": {},
   "outputs": [
    {
     "name": "stdout",
     "output_type": "stream",
     "text": [
      "content='Your name is Jonas.'\n"
     ]
    }
   ],
   "source": [
    "invoke_chain(question=\"What is my name?\")"
   ]
  }
 ],
 "metadata": {
  "kernelspec": {
   "display_name": "env",
   "language": "python",
   "name": "python3"
  },
  "language_info": {
   "codemirror_mode": {
    "name": "ipython",
    "version": 3
   },
   "file_extension": ".py",
   "mimetype": "text/x-python",
   "name": "python",
   "nbconvert_exporter": "python",
   "pygments_lexer": "ipython3",
   "version": "3.11.11"
  }
 },
 "nbformat": 4,
 "nbformat_minor": 2
}
